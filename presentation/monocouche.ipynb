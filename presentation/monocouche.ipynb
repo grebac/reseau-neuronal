{
 "cells": [
  {
   "cell_type": "code",
   "execution_count": 1,
   "metadata": {},
   "outputs": [],
   "source": [
    "from source.monocouche_matrice import table31, table35, predict\n",
    "import numpy as np\n",
    "from IPython.display import Image"
   ]
  },
  {
   "cell_type": "markdown",
   "metadata": {},
   "source": [
    "Classification de 3 classes"
   ]
  },
  {
   "cell_type": "code",
   "execution_count": 2,
   "metadata": {},
   "outputs": [
    {
     "ename": "TypeError",
     "evalue": "Perceptron.__init__() got an unexpected keyword argument 'EMoyenneMax'",
     "output_type": "error",
     "traceback": [
      "\u001b[1;31m---------------------------------------------------------------------------\u001b[0m",
      "\u001b[1;31mTypeError\u001b[0m                                 Traceback (most recent call last)",
      "Cell \u001b[1;32mIn[2], line 1\u001b[0m\n\u001b[1;32m----> 1\u001b[0m monocouche31 \u001b[38;5;241m=\u001b[39m \u001b[43mtable31\u001b[49m\u001b[43m(\u001b[49m\u001b[43m)\u001b[49m\n\u001b[0;32m      2\u001b[0m result \u001b[38;5;241m=\u001b[39m predict(monocouche31, np\u001b[38;5;241m.\u001b[39marray((\u001b[38;5;241m1\u001b[39m,\u001b[38;5;241m2.5\u001b[39m, \u001b[38;5;241m1.5\u001b[39m)))\n\u001b[0;32m      3\u001b[0m \u001b[38;5;28mprint\u001b[39m(result)\n",
      "File \u001b[1;32mc:\\Users\\samic\\Documents\\inpres_mystuff\\Q2\\Réseau Neuronal\\final\\presentation\\source\\monocouche_matrice.py:43\u001b[0m, in \u001b[0;36mtable31\u001b[1;34m(IterationMax, EMoyenneMax, sigma, tauxApprentissage)\u001b[0m\n\u001b[0;32m     41\u001b[0m monocouche \u001b[38;5;241m=\u001b[39m \u001b[38;5;28mlist\u001b[39m[Perceptron]()\n\u001b[0;32m     42\u001b[0m \u001b[38;5;28;01mfor\u001b[39;00m i \u001b[38;5;129;01min\u001b[39;00m \u001b[38;5;28mrange\u001b[39m(output_num):\n\u001b[1;32m---> 43\u001b[0m     monocouche\u001b[38;5;241m.\u001b[39mappend(\u001b[43mPerceptron\u001b[49m\u001b[43m(\u001b[49m\u001b[43mrow_num\u001b[49m\u001b[43m,\u001b[49m\u001b[43m \u001b[49m\u001b[43mIterationMax\u001b[49m\u001b[38;5;241;43m=\u001b[39;49m\u001b[43mIterationMax\u001b[49m\u001b[43m,\u001b[49m\u001b[43m \u001b[49m\u001b[43mEMoyenneMax\u001b[49m\u001b[38;5;241;43m=\u001b[39;49m\u001b[43mEMoyenneMax\u001b[49m\u001b[43m,\u001b[49m\u001b[43m \u001b[49m\u001b[43msigma\u001b[49m\u001b[38;5;241;43m=\u001b[39;49m\u001b[43msigma\u001b[49m\u001b[43m,\u001b[49m\u001b[43m \u001b[49m\u001b[43mtauxApprentissage\u001b[49m\u001b[38;5;241;43m=\u001b[39;49m\u001b[43mtauxApprentissage\u001b[49m\u001b[43m)\u001b[49m)\n\u001b[0;32m     44\u001b[0m     (E, iteration) \u001b[38;5;241m=\u001b[39m monocouche[i]\u001b[38;5;241m.\u001b[39mprocessBatch(inputs, labels[i], \u001b[38;5;241m150\u001b[39m)\n\u001b[0;32m     45\u001b[0m     \u001b[38;5;28mprint\u001b[39m(\u001b[38;5;124m\"\u001b[39m\u001b[38;5;124mErreur moyenne : \u001b[39m\u001b[38;5;132;01m{}\u001b[39;00m\u001b[38;5;124m en \u001b[39m\u001b[38;5;132;01m{}\u001b[39;00m\u001b[38;5;124m itérations\u001b[39m\u001b[38;5;124m\"\u001b[39m\u001b[38;5;241m.\u001b[39mformat(E, iteration))\n",
      "\u001b[1;31mTypeError\u001b[0m: Perceptron.__init__() got an unexpected keyword argument 'EMoyenneMax'"
     ]
    }
   ],
   "source": [
    "monocouche31 = table31()\n",
    "result = predict(monocouche31, np.array((1,2.5, 1.5)))\n",
    "print(result)"
   ]
  },
  {
   "cell_type": "markdown",
   "metadata": {},
   "source": [
    "Classification à 4 classes"
   ]
  },
  {
   "cell_type": "code",
   "execution_count": null,
   "metadata": {},
   "outputs": [
    {
     "data": {
      "image/png": "[encoded data removed]",
      "text/plain": [
       "<IPython.core.display.Image object>"
      ]
     },
     "metadata": {},
     "output_type": "display_data"
    },
    {
     "name": "stdout",
     "output_type": "stream",
     "text": [
      "Erreur moyenne : 0.01678115824495035 en 3000 itérations\n",
      "Erreur moyenne : 0.010879061449414898 en 3000 itérations\n",
      "Erreur moyenne : 0.009994595610684016 en 2834 itérations\n",
      "Erreur moyenne : 0.009992325392245621 en 2669 itérations\n"
     ]
    }
   ],
   "source": [
    "display(Image('img/figures_classes.png'))\n",
    "monocouche35 = table35(IterationMax=3000)"
   ]
  },
  {
   "cell_type": "code",
   "execution_count": null,
   "metadata": {},
   "outputs": [
    {
     "data": {
      "image/png": "[encoded data removed]",
      "text/plain": [
       "<IPython.core.display.Image object>"
      ]
     },
     "metadata": {},
     "output_type": "display_data"
    },
    {
     "name": "stdout",
     "output_type": "stream",
     "text": [
      "{'class1': True, 'class2': False, 'class3': False, 'class4': False}\n"
     ]
    }
   ],
   "source": [
    "display(Image('img/replicate_class1.png'))\n",
    "result1 = predict(monocouche35, np.array((1,\n",
    "                                       1,0,0,0,1,\n",
    "                                       0,0,0,0,0,\n",
    "                                       0,0,0,0,0,\n",
    "                                       0,0,0,0,0,\n",
    "                                       0,0,1,0,0)))\n",
    "print(result1)"
   ]
  },
  {
   "cell_type": "code",
   "execution_count": null,
   "metadata": {},
   "outputs": [
    {
     "data": {
      "image/png": "[encoded data removed]",
      "text/plain": [
       "<IPython.core.display.Image object>"
      ]
     },
     "metadata": {},
     "output_type": "display_data"
    },
    {
     "name": "stdout",
     "output_type": "stream",
     "text": [
      "{'class1': True, 'class2': True, 'class3': False, 'class4': False}\n"
     ]
    }
   ],
   "source": [
    "display(Image('img/replicate_class2.png'))\n",
    "result2 = predict(monocouche35, np.array((1,\n",
    "                                       0,0,1,0,0,\n",
    "                                       0,0,0,0,0,\n",
    "                                       1,1,0,0,1,\n",
    "                                       0,0,1,0,0,\n",
    "                                       0,0,0,0,0)))\n",
    "print(result2)"
   ]
  },
  {
   "cell_type": "code",
   "execution_count": null,
   "metadata": {},
   "outputs": [
    {
     "data": {
      "image/png": "[encoded data removed]",
      "text/plain": [
       "<IPython.core.display.Image object>"
      ]
     },
     "metadata": {},
     "output_type": "display_data"
    },
    {
     "name": "stdout",
     "output_type": "stream",
     "text": [
      "{'class1': False, 'class2': False, 'class3': True, 'class4': False}\n"
     ]
    }
   ],
   "source": [
    "display(Image('img/replicate_class3.png'))\n",
    "result3 = predict(monocouche35, np.array((1,\n",
    "                                       1,0,0,0,1,\n",
    "                                       0,1,0,1,0,\n",
    "                                       0,0,0,0,0,\n",
    "                                       0,1,0,1,0,\n",
    "                                       1,0,0,0,1)))\n",
    "print(result3)"
   ]
  },
  {
   "cell_type": "markdown",
   "metadata": {},
   "source": [
    "On observe que cette image est un hybride de la classe 3 et 4. Elle est donc validée par les deux neurones appropriés. La ligne de décision est fort ambigue.\n",
    "(!!! Cette remarque n'est pertinente qu'un entrainement sur deux. Avec les valeurs randoms, cette image est tantot classifiée dans les deux classes, l'une ou l'autre. Mais elle est toujours présente dans au moins l'une d'elles)"
   ]
  },
  {
   "cell_type": "code",
   "execution_count": null,
   "metadata": {},
   "outputs": [
    {
     "data": {
      "image/png": "[encoded data removed]",
      "text/plain": [
       "<IPython.core.display.Image object>"
      ]
     },
     "metadata": {},
     "output_type": "display_data"
    },
    {
     "name": "stdout",
     "output_type": "stream",
     "text": [
      "{'class1': False, 'class2': False, 'class3': True, 'class4': True}\n"
     ]
    }
   ],
   "source": [
    "display(Image('img/replicate_class4.png'))\n",
    "result4 = predict(monocouche35, np.array((1,\n",
    "                                       1,0,0,0,1,\n",
    "                                       0,1,1,1,0,\n",
    "                                       0,1,0,1,0,\n",
    "                                       0,1,1,1,0,\n",
    "                                       1,0,0,0,1)))\n",
    "print(result4)"
   ]
  },
  {
   "cell_type": "markdown",
   "metadata": {},
   "source": [
    "Si l'on retire, par exemple, le point inférieur droit (critère caractéristique de la classe 3), alors l'image est classifié uniquement comme 4."
   ]
  },
  {
   "cell_type": "code",
   "execution_count": null,
   "metadata": {},
   "outputs": [
    {
     "data": {
      "image/png": "[encoded data removed]",
      "text/plain": [
       "<IPython.core.display.Image object>"
      ]
     },
     "metadata": {},
     "output_type": "display_data"
    },
    {
     "name": "stdout",
     "output_type": "stream",
     "text": [
      "{'class1': False, 'class2': False, 'class3': False, 'class4': True}\n"
     ]
    }
   ],
   "source": [
    "display(Image('img/replicate_class4_2.png'))\n",
    "result4 = predict(monocouche35, np.array((1,\n",
    "                                       1,0,0,0,1,\n",
    "                                       0,1,1,1,0,\n",
    "                                       0,1,0,1,0,\n",
    "                                       0,1,1,1,0,\n",
    "                                       1,0,0,0,0)))\n",
    "print(result4)"
   ]
  }
 ],
 "metadata": {
  "kernelspec": {
   "display_name": "Python 3",
   "language": "python",
   "name": "python3"
  },
  "language_info": {
   "codemirror_mode": {
    "name": "ipython",
    "version": 3
   },
   "file_extension": ".py",
   "mimetype": "text/x-python",
   "name": "python",
   "nbconvert_exporter": "python",
   "pygments_lexer": "ipython3",
   "version": "3.11.9"
  }
 },
 "nbformat": 4,
 "nbformat_minor": 2
}
